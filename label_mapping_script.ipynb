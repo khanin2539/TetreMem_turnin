{
 "cells": [
  {
   "cell_type": "code",
   "execution_count": 1,
   "metadata": {},
   "outputs": [
    {
     "name": "stderr",
     "output_type": "stream",
     "text": [
      "C:\\Users\\udomc\\Anaconda3\\lib\\site-packages\\statsmodels\\tools\\_testing.py:19: FutureWarning: pandas.util.testing is deprecated. Use the functions in the public API at pandas.testing instead.\n",
      "  import pandas.util.testing as tm\n"
     ]
    }
   ],
   "source": [
    "import scipy as sp\n",
    "import numpy as np\n",
    "import scipy\n",
    "import seaborn as sns; sns.set_theme()\n",
    "from scipy import stats\n",
    "from matplotlib.pyplot import figure\n",
    "import pandas as pd\n",
    "import matplotlib.pyplot as plt\n",
    "import quandl\n",
    "import os\n",
    "import pandas as pd\n",
    "import os\n",
    "from sklearn.preprocessing import MinMaxScaler\n",
    "import statsmodels.api as sm\n",
    "from statsmodels.graphics.tsaplots import acf\n",
    "from sklearn.model_selection import GridSearchCV, ParameterGrid\n",
    "\n",
    "\n",
    "from datetime import datetime as dt\n",
    "\n",
    "from sklearn import linear_model\n",
    "from datetime import date\n",
    "\n",
    "from sklearn.neighbors import KNeighborsClassifier\n",
    "from sklearn.metrics import mean_absolute_percentage_error\n",
    "import math\n",
    "from scipy.stats import pearsonr\n",
    "\n",
    "# calculate bayesian information criterion for a linear regression model\n",
    "from math import log\n",
    "from statsmodels.graphics.tsaplots import plot_acf\n",
    "import sklearn\n",
    "from sklearn.model_selection import train_test_split\n",
    "# from sklearn.metrics import classification_report\n",
    "# from sklearn.metrics import accuracy_score\n",
    "from sklearn.linear_model import LinearRegression\n",
    "from sklearn.ensemble import RandomForestRegressor\n",
    "from sklearn.metrics import mean_squared_error\n",
    "from sklearn.model_selection import GridSearchCV, ParameterGrid\n",
    "from sklearn.linear_model import LogisticRegression\n",
    "from sklearn import preprocessing\n",
    "from sklearn.metrics import ConfusionMatrixDisplay\n",
    "from sklearn.tree import DecisionTreeClassifier\n",
    "from sklearn.model_selection import cross_val_score\n",
    "from sklearn import tree\n",
    "from sklearn.metrics import accuracy_score, confusion_matrix, classification_report, fbeta_score #To\n"
   ]
  },
  {
   "cell_type": "code",
   "execution_count": 21,
   "metadata": {},
   "outputs": [],
   "source": [
    "df = pd.read_csv('DF20M-train_metadata_PROD.csv')"
   ]
  },
  {
   "cell_type": "code",
   "execution_count": 22,
   "metadata": {},
   "outputs": [
    {
     "data": {
      "text/html": [
       "<div>\n",
       "<style scoped>\n",
       "    .dataframe tbody tr th:only-of-type {\n",
       "        vertical-align: middle;\n",
       "    }\n",
       "\n",
       "    .dataframe tbody tr th {\n",
       "        vertical-align: top;\n",
       "    }\n",
       "\n",
       "    .dataframe thead th {\n",
       "        text-align: right;\n",
       "    }\n",
       "</style>\n",
       "<table border=\"1\" class=\"dataframe\">\n",
       "  <thead>\n",
       "    <tr style=\"text-align: right;\">\n",
       "      <th></th>\n",
       "      <th>image_path</th>\n",
       "      <th>taxonID</th>\n",
       "    </tr>\n",
       "  </thead>\n",
       "  <tbody>\n",
       "    <tr>\n",
       "      <th>0</th>\n",
       "      <td>2862684394-136762.JPG</td>\n",
       "      <td>17215</td>\n",
       "    </tr>\n",
       "    <tr>\n",
       "      <th>1</th>\n",
       "      <td>2238502117-320693.JPG</td>\n",
       "      <td>10057</td>\n",
       "    </tr>\n",
       "    <tr>\n",
       "      <th>2</th>\n",
       "      <td>2818074328-59948.JPG</td>\n",
       "      <td>20027</td>\n",
       "    </tr>\n",
       "    <tr>\n",
       "      <th>3</th>\n",
       "      <td>2238560017-331396.JPG</td>\n",
       "      <td>11069</td>\n",
       "    </tr>\n",
       "    <tr>\n",
       "      <th>4</th>\n",
       "      <td>2237970493-5168.JPG</td>\n",
       "      <td>17278</td>\n",
       "    </tr>\n",
       "    <tr>\n",
       "      <th>...</th>\n",
       "      <td>...</td>\n",
       "      <td>...</td>\n",
       "    </tr>\n",
       "    <tr>\n",
       "      <th>32729</th>\n",
       "      <td>2901951500-218743.JPG</td>\n",
       "      <td>17202</td>\n",
       "    </tr>\n",
       "    <tr>\n",
       "      <th>32730</th>\n",
       "      <td>2238549985-179895.JPG</td>\n",
       "      <td>20093</td>\n",
       "    </tr>\n",
       "    <tr>\n",
       "      <th>32731</th>\n",
       "      <td>2238365543-13464.JPG</td>\n",
       "      <td>45233</td>\n",
       "    </tr>\n",
       "    <tr>\n",
       "      <th>32732</th>\n",
       "      <td>2883271427-366116.JPG</td>\n",
       "      <td>17289</td>\n",
       "    </tr>\n",
       "    <tr>\n",
       "      <th>32733</th>\n",
       "      <td>2238556145-181178.JPG</td>\n",
       "      <td>17242</td>\n",
       "    </tr>\n",
       "  </tbody>\n",
       "</table>\n",
       "<p>32734 rows × 2 columns</p>\n",
       "</div>"
      ],
      "text/plain": [
       "                  image_path  taxonID\n",
       "0      2862684394-136762.JPG    17215\n",
       "1      2238502117-320693.JPG    10057\n",
       "2       2818074328-59948.JPG    20027\n",
       "3      2238560017-331396.JPG    11069\n",
       "4        2237970493-5168.JPG    17278\n",
       "...                      ...      ...\n",
       "32729  2901951500-218743.JPG    17202\n",
       "32730  2238549985-179895.JPG    20093\n",
       "32731   2238365543-13464.JPG    45233\n",
       "32732  2883271427-366116.JPG    17289\n",
       "32733  2238556145-181178.JPG    17242\n",
       "\n",
       "[32734 rows x 2 columns]"
      ]
     },
     "execution_count": 22,
     "metadata": {},
     "output_type": "execute_result"
    }
   ],
   "source": [
    "df"
   ]
  },
  {
   "cell_type": "code",
   "execution_count": 23,
   "metadata": {},
   "outputs": [
    {
     "name": "stdout",
     "output_type": "stream",
     "text": [
      "[10056, 10057, 10059, 10061, 10062, 40128, 69825, 10065, 69795, 10069, 10106, 63524, 10079, 10082, 10083, 10085, 10090, 10111, 10112, 10107, 10108, 10116, 10225, 65830, 10227, 10230, 10232, 10234, 10235, 10242, 10252, 10257, 63478, 10260, 63479, 10266, 10267, 63480, 10273, 11061, 11069, 11083, 11093, 11746, 11760, 11767, 11787, 63482, 67042, 63483, 11797, 11803, 11816, 11759, 11772, 11807, 17178, 17179, 17182, 17190, 17191, 17193, 17195, 17201, 17202, 17205, 17206, 17208, 17210, 17211, 17215, 17218, 17221, 17222, 17225, 17226, 17233, 17234, 17238, 17242, 17244, 17250, 65712, 17256, 17257, 17258, 17266, 17272, 17277, 17278, 17280, 17282, 17283, 17285, 17289, 17290, 17293, 17296, 17302, 17308, 17311, 64062, 45233, 17325, 17326, 19908, 19910, 19911, 19919, 19926, 19928, 19931, 19932, 47597, 19937, 19939, 47602, 19942, 19950, 19951, 19955, 19956, 19957, 47670, 19964, 19966, 19967, 19968, 19970, 19973, 63728, 19983, 19984, 19985, 19991, 19993, 20007, 19996, 19998, 20000, 20002, 20057, 20008, 20009, 20010, 20013, 20019, 20020, 20021, 20024, 20026, 20027, 20032, 20033, 20037, 47667, 20046, 20047, 20051, 20055, 20056, 20058, 20062, 20063, 20064, 20067, 20068, 20069, 20077, 20085, 20089, 20090, 20092, 20093, 20094, 20100, 20101, 20102, 20105, 68669, 40854, 11101]\n"
     ]
    }
   ],
   "source": [
    "\n",
    "my_file = open(\"map.txt\", \"r\")\n",
    "  \n",
    "# reading the file\n",
    "data = my_file.read()\n",
    "  \n",
    "# replacing end splitting the text \n",
    "# when newline ('\\n') is seen.\n",
    "data_into_list = data.split(\"\\n\")\n",
    "\n",
    "data_into_list = [int(data_into_list[i]) for i in range(len(data_into_list))]\n",
    "print(data_into_list)"
   ]
  },
  {
   "cell_type": "code",
   "execution_count": 24,
   "metadata": {},
   "outputs": [],
   "source": [
    "label = [data_into_list.index(x)+1 for x in  df['taxonID']]"
   ]
  },
  {
   "cell_type": "code",
   "execution_count": 27,
   "metadata": {},
   "outputs": [
    {
     "data": {
      "text/plain": [
       "32734"
      ]
     },
     "execution_count": 27,
     "metadata": {},
     "output_type": "execute_result"
    }
   ],
   "source": [
    "len(label)"
   ]
  },
  {
   "cell_type": "code",
   "execution_count": 28,
   "metadata": {},
   "outputs": [],
   "source": [
    "df['mapped_label'] = label"
   ]
  },
  {
   "cell_type": "code",
   "execution_count": 29,
   "metadata": {},
   "outputs": [
    {
     "data": {
      "text/html": [
       "<div>\n",
       "<style scoped>\n",
       "    .dataframe tbody tr th:only-of-type {\n",
       "        vertical-align: middle;\n",
       "    }\n",
       "\n",
       "    .dataframe tbody tr th {\n",
       "        vertical-align: top;\n",
       "    }\n",
       "\n",
       "    .dataframe thead th {\n",
       "        text-align: right;\n",
       "    }\n",
       "</style>\n",
       "<table border=\"1\" class=\"dataframe\">\n",
       "  <thead>\n",
       "    <tr style=\"text-align: right;\">\n",
       "      <th></th>\n",
       "      <th>image_path</th>\n",
       "      <th>taxonID</th>\n",
       "      <th>mapped_label</th>\n",
       "    </tr>\n",
       "  </thead>\n",
       "  <tbody>\n",
       "    <tr>\n",
       "      <th>0</th>\n",
       "      <td>2862684394-136762.JPG</td>\n",
       "      <td>17215</td>\n",
       "      <td>71</td>\n",
       "    </tr>\n",
       "    <tr>\n",
       "      <th>1</th>\n",
       "      <td>2238502117-320693.JPG</td>\n",
       "      <td>10057</td>\n",
       "      <td>2</td>\n",
       "    </tr>\n",
       "    <tr>\n",
       "      <th>2</th>\n",
       "      <td>2818074328-59948.JPG</td>\n",
       "      <td>20027</td>\n",
       "      <td>152</td>\n",
       "    </tr>\n",
       "    <tr>\n",
       "      <th>3</th>\n",
       "      <td>2238560017-331396.JPG</td>\n",
       "      <td>11069</td>\n",
       "      <td>41</td>\n",
       "    </tr>\n",
       "    <tr>\n",
       "      <th>4</th>\n",
       "      <td>2237970493-5168.JPG</td>\n",
       "      <td>17278</td>\n",
       "      <td>90</td>\n",
       "    </tr>\n",
       "    <tr>\n",
       "      <th>...</th>\n",
       "      <td>...</td>\n",
       "      <td>...</td>\n",
       "      <td>...</td>\n",
       "    </tr>\n",
       "    <tr>\n",
       "      <th>32729</th>\n",
       "      <td>2901951500-218743.JPG</td>\n",
       "      <td>17202</td>\n",
       "      <td>65</td>\n",
       "    </tr>\n",
       "    <tr>\n",
       "      <th>32730</th>\n",
       "      <td>2238549985-179895.JPG</td>\n",
       "      <td>20093</td>\n",
       "      <td>174</td>\n",
       "    </tr>\n",
       "    <tr>\n",
       "      <th>32731</th>\n",
       "      <td>2238365543-13464.JPG</td>\n",
       "      <td>45233</td>\n",
       "      <td>103</td>\n",
       "    </tr>\n",
       "    <tr>\n",
       "      <th>32732</th>\n",
       "      <td>2883271427-366116.JPG</td>\n",
       "      <td>17289</td>\n",
       "      <td>95</td>\n",
       "    </tr>\n",
       "    <tr>\n",
       "      <th>32733</th>\n",
       "      <td>2238556145-181178.JPG</td>\n",
       "      <td>17242</td>\n",
       "      <td>80</td>\n",
       "    </tr>\n",
       "  </tbody>\n",
       "</table>\n",
       "<p>32734 rows × 3 columns</p>\n",
       "</div>"
      ],
      "text/plain": [
       "                  image_path  taxonID  mapped_label\n",
       "0      2862684394-136762.JPG    17215            71\n",
       "1      2238502117-320693.JPG    10057             2\n",
       "2       2818074328-59948.JPG    20027           152\n",
       "3      2238560017-331396.JPG    11069            41\n",
       "4        2237970493-5168.JPG    17278            90\n",
       "...                      ...      ...           ...\n",
       "32729  2901951500-218743.JPG    17202            65\n",
       "32730  2238549985-179895.JPG    20093           174\n",
       "32731   2238365543-13464.JPG    45233           103\n",
       "32732  2883271427-366116.JPG    17289            95\n",
       "32733  2238556145-181178.JPG    17242            80\n",
       "\n",
       "[32734 rows x 3 columns]"
      ]
     },
     "execution_count": 29,
     "metadata": {},
     "output_type": "execute_result"
    }
   ],
   "source": [
    "df"
   ]
  },
  {
   "cell_type": "code",
   "execution_count": 31,
   "metadata": {},
   "outputs": [],
   "source": [
    "# df_dropped = df.drop(['map', 'map_idx'], axis=1)"
   ]
  },
  {
   "cell_type": "code",
   "execution_count": 32,
   "metadata": {},
   "outputs": [],
   "source": [
    "df_dropped\n",
    "\n",
    "# df = pd.read_csv(\"auto_proj_1_icx_2nd.csv\")\n",
    "# print(train['lat'])\n",
    "df_dropped.to_csv('DF20M_train_mapped.csv', index=None)"
   ]
  },
  {
   "cell_type": "code",
   "execution_count": null,
   "metadata": {},
   "outputs": [],
   "source": []
  }
 ],
 "metadata": {
  "kernelspec": {
   "display_name": "Python 3",
   "language": "python",
   "name": "python3"
  },
  "language_info": {
   "codemirror_mode": {
    "name": "ipython",
    "version": 3
   },
   "file_extension": ".py",
   "mimetype": "text/x-python",
   "name": "python",
   "nbconvert_exporter": "python",
   "pygments_lexer": "ipython3",
   "version": "3.7.4"
  }
 },
 "nbformat": 4,
 "nbformat_minor": 2
}
